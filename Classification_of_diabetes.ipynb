{
  "metadata": {
    "kernelspec": {
      "language": "python",
      "display_name": "Python 3",
      "name": "python3"
    },
    "language_info": {
      "name": "python",
      "version": "3.10.13",
      "mimetype": "text/x-python",
      "codemirror_mode": {
        "name": "ipython",
        "version": 3
      },
      "pygments_lexer": "ipython3",
      "nbconvert_exporter": "python",
      "file_extension": ".py"
    },
    "kaggle": {
      "accelerator": "none",
      "dataSources": [
        {
          "sourceId": 5344155,
          "sourceType": "datasetVersion",
          "datasetId": 3102947
        }
      ],
      "dockerImageVersionId": 30732,
      "isInternetEnabled": true,
      "language": "python",
      "sourceType": "notebook",
      "isGpuEnabled": false
    },
    "colab": {
      "name": "Classification of diabetes",
      "provenance": [],
      "include_colab_link": true
    }
  },
  "nbformat_minor": 0,
  "nbformat": 4,
  "cells": [
    {
      "cell_type": "markdown",
      "metadata": {
        "id": "view-in-github",
        "colab_type": "text"
      },
      "source": [
        "<a href=\"https://colab.research.google.com/github/Mahadevan0507/Diabetes-Prediction/blob/main/Classification_of_diabetes.ipynb\" target=\"_parent\"><img src=\"https://colab.research.google.com/assets/colab-badge.svg\" alt=\"Open In Colab\"/></a>"
      ]
    },
    {
      "source": [
        "\n",
        "# IMPORTANT: RUN THIS CELL IN ORDER TO IMPORT YOUR KAGGLE DATA SOURCES\n",
        "# TO THE CORRECT LOCATION (/kaggle/input) IN YOUR NOTEBOOK,\n",
        "# THEN FEEL FREE TO DELETE THIS CELL.\n",
        "# NOTE: THIS NOTEBOOK ENVIRONMENT DIFFERS FROM KAGGLE'S PYTHON\n",
        "# ENVIRONMENT SO THERE MAY BE MISSING LIBRARIES USED BY YOUR\n",
        "# NOTEBOOK.\n",
        "\n",
        "import os\n",
        "import sys\n",
        "from tempfile import NamedTemporaryFile\n",
        "from urllib.request import urlopen\n",
        "from urllib.parse import unquote, urlparse\n",
        "from urllib.error import HTTPError\n",
        "from zipfile import ZipFile\n",
        "import tarfile\n",
        "import shutil\n",
        "\n",
        "CHUNK_SIZE = 40960\n",
        "DATA_SOURCE_MAPPING = 'diabetes-prediction-dataset:https%3A%2F%2Fstorage.googleapis.com%2Fkaggle-data-sets%2F3102947%2F5344155%2Fbundle%2Farchive.zip%3FX-Goog-Algorithm%3DGOOG4-RSA-SHA256%26X-Goog-Credential%3Dgcp-kaggle-com%2540kaggle-161607.iam.gserviceaccount.com%252F20240714%252Fauto%252Fstorage%252Fgoog4_request%26X-Goog-Date%3D20240714T053435Z%26X-Goog-Expires%3D259200%26X-Goog-SignedHeaders%3Dhost%26X-Goog-Signature%3D02dd5329e76bf3609a8b18b429a2150fa8dca19638483f424b772373cd68815936336d0d5c1715504f6839923dea77a01a2c102559f086aa254444532f6b8dc4548f46316f7ecd952ec9dd901689a4c67ea77bc5e43acd7abec4f890450f03d453ae03f2a83e0c617af2a9d6cd4762b116488c39c3e90c4b495ff0918ccda19a5c8f5a71f8a141a29218313b2632e0113c2e2b452cb3b81fcfead06dd798b8e5ed68249ced46022e208ac9aeb522c6a6a06fd715f8e4d738d0a8abae84facf7cf09560da8ac5ddd27ae7f50abc0dd4fdeb8be3b3ac30deb48fe2c5775b528346c79f97530f53b876d225a0b20829039bbc8819d94002acd2c67115d0496fc534'\n",
        "\n",
        "KAGGLE_INPUT_PATH='/kaggle/input'\n",
        "KAGGLE_WORKING_PATH='/kaggle/working'\n",
        "KAGGLE_SYMLINK='kaggle'\n",
        "\n",
        "!umount /kaggle/input/ 2> /dev/null\n",
        "shutil.rmtree('/kaggle/input', ignore_errors=True)\n",
        "os.makedirs(KAGGLE_INPUT_PATH, 0o777, exist_ok=True)\n",
        "os.makedirs(KAGGLE_WORKING_PATH, 0o777, exist_ok=True)\n",
        "\n",
        "try:\n",
        "  os.symlink(KAGGLE_INPUT_PATH, os.path.join(\"..\", 'input'), target_is_directory=True)\n",
        "except FileExistsError:\n",
        "  pass\n",
        "try:\n",
        "  os.symlink(KAGGLE_WORKING_PATH, os.path.join(\"..\", 'working'), target_is_directory=True)\n",
        "except FileExistsError:\n",
        "  pass\n",
        "\n",
        "for data_source_mapping in DATA_SOURCE_MAPPING.split(','):\n",
        "    directory, download_url_encoded = data_source_mapping.split(':')\n",
        "    download_url = unquote(download_url_encoded)\n",
        "    filename = urlparse(download_url).path\n",
        "    destination_path = os.path.join(KAGGLE_INPUT_PATH, directory)\n",
        "    try:\n",
        "        with urlopen(download_url) as fileres, NamedTemporaryFile() as tfile:\n",
        "            total_length = fileres.headers['content-length']\n",
        "            print(f'Downloading {directory}, {total_length} bytes compressed')\n",
        "            dl = 0\n",
        "            data = fileres.read(CHUNK_SIZE)\n",
        "            while len(data) > 0:\n",
        "                dl += len(data)\n",
        "                tfile.write(data)\n",
        "                done = int(50 * dl / int(total_length))\n",
        "                sys.stdout.write(f\"\\r[{'=' * done}{' ' * (50-done)}] {dl} bytes downloaded\")\n",
        "                sys.stdout.flush()\n",
        "                data = fileres.read(CHUNK_SIZE)\n",
        "            if filename.endswith('.zip'):\n",
        "              with ZipFile(tfile) as zfile:\n",
        "                zfile.extractall(destination_path)\n",
        "            else:\n",
        "              with tarfile.open(tfile.name) as tarfile:\n",
        "                tarfile.extractall(destination_path)\n",
        "            print(f'\\nDownloaded and uncompressed: {directory}')\n",
        "    except HTTPError as e:\n",
        "        print(f'Failed to load (likely expired) {download_url} to path {destination_path}')\n",
        "        continue\n",
        "    except OSError as e:\n",
        "        print(f'Failed to load {download_url} to path {destination_path}')\n",
        "        continue\n",
        "\n",
        "print('Data source import complete.')\n"
      ],
      "metadata": {
        "colab": {
          "base_uri": "https://localhost:8080/"
        },
        "id": "luvJ2lMXvHbv",
        "outputId": "9aea0044-0dd5-4183-eaaf-7060c2e79b6e"
      },
      "cell_type": "code",
      "outputs": [
        {
          "output_type": "stream",
          "name": "stdout",
          "text": [
            "Downloading diabetes-prediction-dataset, 751272 bytes compressed\n",
            "[==================================================] 751272 bytes downloaded\n",
            "Downloaded and uncompressed: diabetes-prediction-dataset\n",
            "Data source import complete.\n"
          ]
        }
      ],
      "execution_count": 1
    },
    {
      "cell_type": "markdown",
      "source": [
        "# Loading libraries"
      ],
      "metadata": {
        "id": "XEdjX_DavHcE"
      }
    },
    {
      "cell_type": "code",
      "source": [
        "import numpy as np\n",
        "import pandas as pd\n",
        "import matplotlib.pyplot as plt\n",
        "import seaborn as sns\n",
        "from sklearn.preprocessing import LabelEncoder\n",
        "from sklearn.linear_model import LogisticRegression\n",
        "from sklearn.tree import DecisionTreeClassifier\n",
        "from xgboost import XGBClassifier\n",
        "from sklearn.ensemble import RandomForestClassifier\n",
        "from sklearn.model_selection import GridSearchCV\n",
        "from sklearn.preprocessing import StandardScaler\n",
        "from sklearn.decomposition import PCA\n",
        "from sklearn.metrics import accuracy_score\n",
        "from sklearn.model_selection import train_test_split\n",
        "import os\n",
        "for dirname, _, filenames in os.walk('/kaggle/input'):\n",
        "    for filename in filenames:\n",
        "        print(os.path.join(dirname, filename))"
      ],
      "metadata": {
        "colab": {
          "base_uri": "https://localhost:8080/"
        },
        "id": "X3K35Cn3vHcK",
        "outputId": "a9be7be8-8b8d-46b0-d173-e89f045dd069"
      },
      "execution_count": 2,
      "outputs": [
        {
          "output_type": "stream",
          "name": "stdout",
          "text": [
            "/kaggle/input/diabetes-prediction-dataset/diabetes_prediction_dataset.csv\n"
          ]
        }
      ]
    },
    {
      "cell_type": "markdown",
      "source": [
        "# The purpose\n",
        "The purpose of the task is to analyze the dataset and solve the problem of diabetes prediction qualification."
      ],
      "metadata": {
        "id": "biS5Jr8wvHcO"
      }
    },
    {
      "cell_type": "code",
      "source": [
        "df=pd.read_csv('/kaggle/input/diabetes-prediction-dataset/diabetes_prediction_dataset.csv')\n",
        "df"
      ],
      "metadata": {
        "execution": {
          "iopub.status.busy": "2024-06-29T20:37:06.622208Z",
          "iopub.execute_input": "2024-06-29T20:37:06.623535Z",
          "iopub.status.idle": "2024-06-29T20:37:06.830286Z",
          "shell.execute_reply.started": "2024-06-29T20:37:06.623478Z",
          "shell.execute_reply": "2024-06-29T20:37:06.829126Z"
        },
        "trusted": true,
        "colab": {
          "base_uri": "https://localhost:8080/",
          "height": 424
        },
        "id": "bVqz1ValvHcP",
        "outputId": "2f2aab60-5f9f-406b-e328-a83804f152ad"
      },
      "execution_count": 3,
      "outputs": [
        {
          "output_type": "execute_result",
          "data": {
            "text/plain": [
              "       gender   age  hypertension  heart_disease smoking_history    bmi  \\\n",
              "0      Female  80.0             0              1           never  25.19   \n",
              "1      Female  54.0             0              0         No Info  27.32   \n",
              "2        Male  28.0             0              0           never  27.32   \n",
              "3      Female  36.0             0              0         current  23.45   \n",
              "4        Male  76.0             1              1         current  20.14   \n",
              "...       ...   ...           ...            ...             ...    ...   \n",
              "99995  Female  80.0             0              0         No Info  27.32   \n",
              "99996  Female   2.0             0              0         No Info  17.37   \n",
              "99997    Male  66.0             0              0          former  27.83   \n",
              "99998  Female  24.0             0              0           never  35.42   \n",
              "99999  Female  57.0             0              0         current  22.43   \n",
              "\n",
              "       HbA1c_level  blood_glucose_level  diabetes  \n",
              "0              6.6                  140         0  \n",
              "1              6.6                   80         0  \n",
              "2              5.7                  158         0  \n",
              "3              5.0                  155         0  \n",
              "4              4.8                  155         0  \n",
              "...            ...                  ...       ...  \n",
              "99995          6.2                   90         0  \n",
              "99996          6.5                  100         0  \n",
              "99997          5.7                  155         0  \n",
              "99998          4.0                  100         0  \n",
              "99999          6.6                   90         0  \n",
              "\n",
              "[100000 rows x 9 columns]"
            ],
            "text/html": [
              "\n",
              "  <div id=\"df-6d0257ff-2eda-4fde-ab0f-c595c6d650a4\" class=\"colab-df-container\">\n",
              "    <div>\n",
              "<style scoped>\n",
              "    .dataframe tbody tr th:only-of-type {\n",
              "        vertical-align: middle;\n",
              "    }\n",
              "\n",
              "    .dataframe tbody tr th {\n",
              "        vertical-align: top;\n",
              "    }\n",
              "\n",
              "    .dataframe thead th {\n",
              "        text-align: right;\n",
              "    }\n",
              "</style>\n",
              "<table border=\"1\" class=\"dataframe\">\n",
              "  <thead>\n",
              "    <tr style=\"text-align: right;\">\n",
              "      <th></th>\n",
              "      <th>gender</th>\n",
              "      <th>age</th>\n",
              "      <th>hypertension</th>\n",
              "      <th>heart_disease</th>\n",
              "      <th>smoking_history</th>\n",
              "      <th>bmi</th>\n",
              "      <th>HbA1c_level</th>\n",
              "      <th>blood_glucose_level</th>\n",
              "      <th>diabetes</th>\n",
              "    </tr>\n",
              "  </thead>\n",
              "  <tbody>\n",
              "    <tr>\n",
              "      <th>0</th>\n",
              "      <td>Female</td>\n",
              "      <td>80.0</td>\n",
              "      <td>0</td>\n",
              "      <td>1</td>\n",
              "      <td>never</td>\n",
              "      <td>25.19</td>\n",
              "      <td>6.6</td>\n",
              "      <td>140</td>\n",
              "      <td>0</td>\n",
              "    </tr>\n",
              "    <tr>\n",
              "      <th>1</th>\n",
              "      <td>Female</td>\n",
              "      <td>54.0</td>\n",
              "      <td>0</td>\n",
              "      <td>0</td>\n",
              "      <td>No Info</td>\n",
              "      <td>27.32</td>\n",
              "      <td>6.6</td>\n",
              "      <td>80</td>\n",
              "      <td>0</td>\n",
              "    </tr>\n",
              "    <tr>\n",
              "      <th>2</th>\n",
              "      <td>Male</td>\n",
              "      <td>28.0</td>\n",
              "      <td>0</td>\n",
              "      <td>0</td>\n",
              "      <td>never</td>\n",
              "      <td>27.32</td>\n",
              "      <td>5.7</td>\n",
              "      <td>158</td>\n",
              "      <td>0</td>\n",
              "    </tr>\n",
              "    <tr>\n",
              "      <th>3</th>\n",
              "      <td>Female</td>\n",
              "      <td>36.0</td>\n",
              "      <td>0</td>\n",
              "      <td>0</td>\n",
              "      <td>current</td>\n",
              "      <td>23.45</td>\n",
              "      <td>5.0</td>\n",
              "      <td>155</td>\n",
              "      <td>0</td>\n",
              "    </tr>\n",
              "    <tr>\n",
              "      <th>4</th>\n",
              "      <td>Male</td>\n",
              "      <td>76.0</td>\n",
              "      <td>1</td>\n",
              "      <td>1</td>\n",
              "      <td>current</td>\n",
              "      <td>20.14</td>\n",
              "      <td>4.8</td>\n",
              "      <td>155</td>\n",
              "      <td>0</td>\n",
              "    </tr>\n",
              "    <tr>\n",
              "      <th>...</th>\n",
              "      <td>...</td>\n",
              "      <td>...</td>\n",
              "      <td>...</td>\n",
              "      <td>...</td>\n",
              "      <td>...</td>\n",
              "      <td>...</td>\n",
              "      <td>...</td>\n",
              "      <td>...</td>\n",
              "      <td>...</td>\n",
              "    </tr>\n",
              "    <tr>\n",
              "      <th>99995</th>\n",
              "      <td>Female</td>\n",
              "      <td>80.0</td>\n",
              "      <td>0</td>\n",
              "      <td>0</td>\n",
              "      <td>No Info</td>\n",
              "      <td>27.32</td>\n",
              "      <td>6.2</td>\n",
              "      <td>90</td>\n",
              "      <td>0</td>\n",
              "    </tr>\n",
              "    <tr>\n",
              "      <th>99996</th>\n",
              "      <td>Female</td>\n",
              "      <td>2.0</td>\n",
              "      <td>0</td>\n",
              "      <td>0</td>\n",
              "      <td>No Info</td>\n",
              "      <td>17.37</td>\n",
              "      <td>6.5</td>\n",
              "      <td>100</td>\n",
              "      <td>0</td>\n",
              "    </tr>\n",
              "    <tr>\n",
              "      <th>99997</th>\n",
              "      <td>Male</td>\n",
              "      <td>66.0</td>\n",
              "      <td>0</td>\n",
              "      <td>0</td>\n",
              "      <td>former</td>\n",
              "      <td>27.83</td>\n",
              "      <td>5.7</td>\n",
              "      <td>155</td>\n",
              "      <td>0</td>\n",
              "    </tr>\n",
              "    <tr>\n",
              "      <th>99998</th>\n",
              "      <td>Female</td>\n",
              "      <td>24.0</td>\n",
              "      <td>0</td>\n",
              "      <td>0</td>\n",
              "      <td>never</td>\n",
              "      <td>35.42</td>\n",
              "      <td>4.0</td>\n",
              "      <td>100</td>\n",
              "      <td>0</td>\n",
              "    </tr>\n",
              "    <tr>\n",
              "      <th>99999</th>\n",
              "      <td>Female</td>\n",
              "      <td>57.0</td>\n",
              "      <td>0</td>\n",
              "      <td>0</td>\n",
              "      <td>current</td>\n",
              "      <td>22.43</td>\n",
              "      <td>6.6</td>\n",
              "      <td>90</td>\n",
              "      <td>0</td>\n",
              "    </tr>\n",
              "  </tbody>\n",
              "</table>\n",
              "<p>100000 rows × 9 columns</p>\n",
              "</div>\n",
              "    <div class=\"colab-df-buttons\">\n",
              "\n",
              "  <div class=\"colab-df-container\">\n",
              "    <button class=\"colab-df-convert\" onclick=\"convertToInteractive('df-6d0257ff-2eda-4fde-ab0f-c595c6d650a4')\"\n",
              "            title=\"Convert this dataframe to an interactive table.\"\n",
              "            style=\"display:none;\">\n",
              "\n",
              "  <svg xmlns=\"http://www.w3.org/2000/svg\" height=\"24px\" viewBox=\"0 -960 960 960\">\n",
              "    <path d=\"M120-120v-720h720v720H120Zm60-500h600v-160H180v160Zm220 220h160v-160H400v160Zm0 220h160v-160H400v160ZM180-400h160v-160H180v160Zm440 0h160v-160H620v160ZM180-180h160v-160H180v160Zm440 0h160v-160H620v160Z\"/>\n",
              "  </svg>\n",
              "    </button>\n",
              "\n",
              "  <style>\n",
              "    .colab-df-container {\n",
              "      display:flex;\n",
              "      gap: 12px;\n",
              "    }\n",
              "\n",
              "    .colab-df-convert {\n",
              "      background-color: #E8F0FE;\n",
              "      border: none;\n",
              "      border-radius: 50%;\n",
              "      cursor: pointer;\n",
              "      display: none;\n",
              "      fill: #1967D2;\n",
              "      height: 32px;\n",
              "      padding: 0 0 0 0;\n",
              "      width: 32px;\n",
              "    }\n",
              "\n",
              "    .colab-df-convert:hover {\n",
              "      background-color: #E2EBFA;\n",
              "      box-shadow: 0px 1px 2px rgba(60, 64, 67, 0.3), 0px 1px 3px 1px rgba(60, 64, 67, 0.15);\n",
              "      fill: #174EA6;\n",
              "    }\n",
              "\n",
              "    .colab-df-buttons div {\n",
              "      margin-bottom: 4px;\n",
              "    }\n",
              "\n",
              "    [theme=dark] .colab-df-convert {\n",
              "      background-color: #3B4455;\n",
              "      fill: #D2E3FC;\n",
              "    }\n",
              "\n",
              "    [theme=dark] .colab-df-convert:hover {\n",
              "      background-color: #434B5C;\n",
              "      box-shadow: 0px 1px 3px 1px rgba(0, 0, 0, 0.15);\n",
              "      filter: drop-shadow(0px 1px 2px rgba(0, 0, 0, 0.3));\n",
              "      fill: #FFFFFF;\n",
              "    }\n",
              "  </style>\n",
              "\n",
              "    <script>\n",
              "      const buttonEl =\n",
              "        document.querySelector('#df-6d0257ff-2eda-4fde-ab0f-c595c6d650a4 button.colab-df-convert');\n",
              "      buttonEl.style.display =\n",
              "        google.colab.kernel.accessAllowed ? 'block' : 'none';\n",
              "\n",
              "      async function convertToInteractive(key) {\n",
              "        const element = document.querySelector('#df-6d0257ff-2eda-4fde-ab0f-c595c6d650a4');\n",
              "        const dataTable =\n",
              "          await google.colab.kernel.invokeFunction('convertToInteractive',\n",
              "                                                    [key], {});\n",
              "        if (!dataTable) return;\n",
              "\n",
              "        const docLinkHtml = 'Like what you see? Visit the ' +\n",
              "          '<a target=\"_blank\" href=https://colab.research.google.com/notebooks/data_table.ipynb>data table notebook</a>'\n",
              "          + ' to learn more about interactive tables.';\n",
              "        element.innerHTML = '';\n",
              "        dataTable['output_type'] = 'display_data';\n",
              "        await google.colab.output.renderOutput(dataTable, element);\n",
              "        const docLink = document.createElement('div');\n",
              "        docLink.innerHTML = docLinkHtml;\n",
              "        element.appendChild(docLink);\n",
              "      }\n",
              "    </script>\n",
              "  </div>\n",
              "\n",
              "\n",
              "<div id=\"df-d207c8f7-2113-4476-a920-82844eaad783\">\n",
              "  <button class=\"colab-df-quickchart\" onclick=\"quickchart('df-d207c8f7-2113-4476-a920-82844eaad783')\"\n",
              "            title=\"Suggest charts\"\n",
              "            style=\"display:none;\">\n",
              "\n",
              "<svg xmlns=\"http://www.w3.org/2000/svg\" height=\"24px\"viewBox=\"0 0 24 24\"\n",
              "     width=\"24px\">\n",
              "    <g>\n",
              "        <path d=\"M19 3H5c-1.1 0-2 .9-2 2v14c0 1.1.9 2 2 2h14c1.1 0 2-.9 2-2V5c0-1.1-.9-2-2-2zM9 17H7v-7h2v7zm4 0h-2V7h2v10zm4 0h-2v-4h2v4z\"/>\n",
              "    </g>\n",
              "</svg>\n",
              "  </button>\n",
              "\n",
              "<style>\n",
              "  .colab-df-quickchart {\n",
              "      --bg-color: #E8F0FE;\n",
              "      --fill-color: #1967D2;\n",
              "      --hover-bg-color: #E2EBFA;\n",
              "      --hover-fill-color: #174EA6;\n",
              "      --disabled-fill-color: #AAA;\n",
              "      --disabled-bg-color: #DDD;\n",
              "  }\n",
              "\n",
              "  [theme=dark] .colab-df-quickchart {\n",
              "      --bg-color: #3B4455;\n",
              "      --fill-color: #D2E3FC;\n",
              "      --hover-bg-color: #434B5C;\n",
              "      --hover-fill-color: #FFFFFF;\n",
              "      --disabled-bg-color: #3B4455;\n",
              "      --disabled-fill-color: #666;\n",
              "  }\n",
              "\n",
              "  .colab-df-quickchart {\n",
              "    background-color: var(--bg-color);\n",
              "    border: none;\n",
              "    border-radius: 50%;\n",
              "    cursor: pointer;\n",
              "    display: none;\n",
              "    fill: var(--fill-color);\n",
              "    height: 32px;\n",
              "    padding: 0;\n",
              "    width: 32px;\n",
              "  }\n",
              "\n",
              "  .colab-df-quickchart:hover {\n",
              "    background-color: var(--hover-bg-color);\n",
              "    box-shadow: 0 1px 2px rgba(60, 64, 67, 0.3), 0 1px 3px 1px rgba(60, 64, 67, 0.15);\n",
              "    fill: var(--button-hover-fill-color);\n",
              "  }\n",
              "\n",
              "  .colab-df-quickchart-complete:disabled,\n",
              "  .colab-df-quickchart-complete:disabled:hover {\n",
              "    background-color: var(--disabled-bg-color);\n",
              "    fill: var(--disabled-fill-color);\n",
              "    box-shadow: none;\n",
              "  }\n",
              "\n",
              "  .colab-df-spinner {\n",
              "    border: 2px solid var(--fill-color);\n",
              "    border-color: transparent;\n",
              "    border-bottom-color: var(--fill-color);\n",
              "    animation:\n",
              "      spin 1s steps(1) infinite;\n",
              "  }\n",
              "\n",
              "  @keyframes spin {\n",
              "    0% {\n",
              "      border-color: transparent;\n",
              "      border-bottom-color: var(--fill-color);\n",
              "      border-left-color: var(--fill-color);\n",
              "    }\n",
              "    20% {\n",
              "      border-color: transparent;\n",
              "      border-left-color: var(--fill-color);\n",
              "      border-top-color: var(--fill-color);\n",
              "    }\n",
              "    30% {\n",
              "      border-color: transparent;\n",
              "      border-left-color: var(--fill-color);\n",
              "      border-top-color: var(--fill-color);\n",
              "      border-right-color: var(--fill-color);\n",
              "    }\n",
              "    40% {\n",
              "      border-color: transparent;\n",
              "      border-right-color: var(--fill-color);\n",
              "      border-top-color: var(--fill-color);\n",
              "    }\n",
              "    60% {\n",
              "      border-color: transparent;\n",
              "      border-right-color: var(--fill-color);\n",
              "    }\n",
              "    80% {\n",
              "      border-color: transparent;\n",
              "      border-right-color: var(--fill-color);\n",
              "      border-bottom-color: var(--fill-color);\n",
              "    }\n",
              "    90% {\n",
              "      border-color: transparent;\n",
              "      border-bottom-color: var(--fill-color);\n",
              "    }\n",
              "  }\n",
              "</style>\n",
              "\n",
              "  <script>\n",
              "    async function quickchart(key) {\n",
              "      const quickchartButtonEl =\n",
              "        document.querySelector('#' + key + ' button');\n",
              "      quickchartButtonEl.disabled = true;  // To prevent multiple clicks.\n",
              "      quickchartButtonEl.classList.add('colab-df-spinner');\n",
              "      try {\n",
              "        const charts = await google.colab.kernel.invokeFunction(\n",
              "            'suggestCharts', [key], {});\n",
              "      } catch (error) {\n",
              "        console.error('Error during call to suggestCharts:', error);\n",
              "      }\n",
              "      quickchartButtonEl.classList.remove('colab-df-spinner');\n",
              "      quickchartButtonEl.classList.add('colab-df-quickchart-complete');\n",
              "    }\n",
              "    (() => {\n",
              "      let quickchartButtonEl =\n",
              "        document.querySelector('#df-d207c8f7-2113-4476-a920-82844eaad783 button');\n",
              "      quickchartButtonEl.style.display =\n",
              "        google.colab.kernel.accessAllowed ? 'block' : 'none';\n",
              "    })();\n",
              "  </script>\n",
              "</div>\n",
              "\n",
              "  <div id=\"id_81edbabb-5aba-4e01-bea7-1ee8b4a3d0ae\">\n",
              "    <style>\n",
              "      .colab-df-generate {\n",
              "        background-color: #E8F0FE;\n",
              "        border: none;\n",
              "        border-radius: 50%;\n",
              "        cursor: pointer;\n",
              "        display: none;\n",
              "        fill: #1967D2;\n",
              "        height: 32px;\n",
              "        padding: 0 0 0 0;\n",
              "        width: 32px;\n",
              "      }\n",
              "\n",
              "      .colab-df-generate:hover {\n",
              "        background-color: #E2EBFA;\n",
              "        box-shadow: 0px 1px 2px rgba(60, 64, 67, 0.3), 0px 1px 3px 1px rgba(60, 64, 67, 0.15);\n",
              "        fill: #174EA6;\n",
              "      }\n",
              "\n",
              "      [theme=dark] .colab-df-generate {\n",
              "        background-color: #3B4455;\n",
              "        fill: #D2E3FC;\n",
              "      }\n",
              "\n",
              "      [theme=dark] .colab-df-generate:hover {\n",
              "        background-color: #434B5C;\n",
              "        box-shadow: 0px 1px 3px 1px rgba(0, 0, 0, 0.15);\n",
              "        filter: drop-shadow(0px 1px 2px rgba(0, 0, 0, 0.3));\n",
              "        fill: #FFFFFF;\n",
              "      }\n",
              "    </style>\n",
              "    <button class=\"colab-df-generate\" onclick=\"generateWithVariable('df')\"\n",
              "            title=\"Generate code using this dataframe.\"\n",
              "            style=\"display:none;\">\n",
              "\n",
              "  <svg xmlns=\"http://www.w3.org/2000/svg\" height=\"24px\"viewBox=\"0 0 24 24\"\n",
              "       width=\"24px\">\n",
              "    <path d=\"M7,19H8.4L18.45,9,17,7.55,7,17.6ZM5,21V16.75L18.45,3.32a2,2,0,0,1,2.83,0l1.4,1.43a1.91,1.91,0,0,1,.58,1.4,1.91,1.91,0,0,1-.58,1.4L9.25,21ZM18.45,9,17,7.55Zm-12,3A5.31,5.31,0,0,0,4.9,8.1,5.31,5.31,0,0,0,1,6.5,5.31,5.31,0,0,0,4.9,4.9,5.31,5.31,0,0,0,6.5,1,5.31,5.31,0,0,0,8.1,4.9,5.31,5.31,0,0,0,12,6.5,5.46,5.46,0,0,0,6.5,12Z\"/>\n",
              "  </svg>\n",
              "    </button>\n",
              "    <script>\n",
              "      (() => {\n",
              "      const buttonEl =\n",
              "        document.querySelector('#id_81edbabb-5aba-4e01-bea7-1ee8b4a3d0ae button.colab-df-generate');\n",
              "      buttonEl.style.display =\n",
              "        google.colab.kernel.accessAllowed ? 'block' : 'none';\n",
              "\n",
              "      buttonEl.onclick = () => {\n",
              "        google.colab.notebook.generateWithVariable('df');\n",
              "      }\n",
              "      })();\n",
              "    </script>\n",
              "  </div>\n",
              "\n",
              "    </div>\n",
              "  </div>\n"
            ],
            "application/vnd.google.colaboratory.intrinsic+json": {
              "type": "dataframe",
              "variable_name": "df",
              "summary": "{\n  \"name\": \"df\",\n  \"rows\": 100000,\n  \"fields\": [\n    {\n      \"column\": \"gender\",\n      \"properties\": {\n        \"dtype\": \"category\",\n        \"num_unique_values\": 3,\n        \"samples\": [\n          \"Female\",\n          \"Male\",\n          \"Other\"\n        ],\n        \"semantic_type\": \"\",\n        \"description\": \"\"\n      }\n    },\n    {\n      \"column\": \"age\",\n      \"properties\": {\n        \"dtype\": \"number\",\n        \"std\": 22.516839871617023,\n        \"min\": 0.08,\n        \"max\": 80.0,\n        \"num_unique_values\": 102,\n        \"samples\": [\n          29.0,\n          39.0,\n          16.0\n        ],\n        \"semantic_type\": \"\",\n        \"description\": \"\"\n      }\n    },\n    {\n      \"column\": \"hypertension\",\n      \"properties\": {\n        \"dtype\": \"number\",\n        \"std\": 0,\n        \"min\": 0,\n        \"max\": 1,\n        \"num_unique_values\": 2,\n        \"samples\": [\n          1,\n          0\n        ],\n        \"semantic_type\": \"\",\n        \"description\": \"\"\n      }\n    },\n    {\n      \"column\": \"heart_disease\",\n      \"properties\": {\n        \"dtype\": \"number\",\n        \"std\": 0,\n        \"min\": 0,\n        \"max\": 1,\n        \"num_unique_values\": 2,\n        \"samples\": [\n          0,\n          1\n        ],\n        \"semantic_type\": \"\",\n        \"description\": \"\"\n      }\n    },\n    {\n      \"column\": \"smoking_history\",\n      \"properties\": {\n        \"dtype\": \"category\",\n        \"num_unique_values\": 6,\n        \"samples\": [\n          \"never\",\n          \"No Info\"\n        ],\n        \"semantic_type\": \"\",\n        \"description\": \"\"\n      }\n    },\n    {\n      \"column\": \"bmi\",\n      \"properties\": {\n        \"dtype\": \"number\",\n        \"std\": 6.636783416648369,\n        \"min\": 10.01,\n        \"max\": 95.69,\n        \"num_unique_values\": 4247,\n        \"samples\": [\n          53.27,\n          32.33\n        ],\n        \"semantic_type\": \"\",\n        \"description\": \"\"\n      }\n    },\n    {\n      \"column\": \"HbA1c_level\",\n      \"properties\": {\n        \"dtype\": \"number\",\n        \"std\": 1.0706720918835437,\n        \"min\": 3.5,\n        \"max\": 9.0,\n        \"num_unique_values\": 18,\n        \"samples\": [\n          6.6,\n          5.7\n        ],\n        \"semantic_type\": \"\",\n        \"description\": \"\"\n      }\n    },\n    {\n      \"column\": \"blood_glucose_level\",\n      \"properties\": {\n        \"dtype\": \"number\",\n        \"std\": 40,\n        \"min\": 80,\n        \"max\": 300,\n        \"num_unique_values\": 18,\n        \"samples\": [\n          140,\n          80\n        ],\n        \"semantic_type\": \"\",\n        \"description\": \"\"\n      }\n    },\n    {\n      \"column\": \"diabetes\",\n      \"properties\": {\n        \"dtype\": \"number\",\n        \"std\": 0,\n        \"min\": 0,\n        \"max\": 1,\n        \"num_unique_values\": 2,\n        \"samples\": [\n          1,\n          0\n        ],\n        \"semantic_type\": \"\",\n        \"description\": \"\"\n      }\n    }\n  ]\n}"
            }
          },
          "metadata": {},
          "execution_count": 3
        }
      ]
    },
    {
      "cell_type": "code",
      "source": [
        "df['gender'].unique()"
      ],
      "metadata": {
        "execution": {
          "iopub.status.busy": "2024-06-29T20:37:14.309117Z",
          "iopub.execute_input": "2024-06-29T20:37:14.309554Z",
          "iopub.status.idle": "2024-06-29T20:37:14.327379Z",
          "shell.execute_reply.started": "2024-06-29T20:37:14.309523Z",
          "shell.execute_reply": "2024-06-29T20:37:14.325871Z"
        },
        "trusted": true,
        "colab": {
          "base_uri": "https://localhost:8080/"
        },
        "id": "KMrQUxO4vHcR",
        "outputId": "5012eb92-683c-476e-8226-9cef45036c35"
      },
      "execution_count": 4,
      "outputs": [
        {
          "output_type": "execute_result",
          "data": {
            "text/plain": [
              "array(['Female', 'Male', 'Other'], dtype=object)"
            ]
          },
          "metadata": {},
          "execution_count": 4
        }
      ]
    },
    {
      "cell_type": "code",
      "source": [
        "df.drop(df.index[df['gender'] == 'Other'], inplace=True)"
      ],
      "metadata": {
        "execution": {
          "iopub.status.busy": "2024-06-29T20:37:18.276002Z",
          "iopub.execute_input": "2024-06-29T20:37:18.276453Z",
          "iopub.status.idle": "2024-06-29T20:37:18.303138Z",
          "shell.execute_reply.started": "2024-06-29T20:37:18.276421Z",
          "shell.execute_reply": "2024-06-29T20:37:18.301732Z"
        },
        "trusted": true,
        "id": "BbLR1rjLvHcU"
      },
      "execution_count": 5,
      "outputs": []
    },
    {
      "cell_type": "code",
      "source": [
        "df['gender'] = df['gender'].map({'Female': 0, 'Male': 1})"
      ],
      "metadata": {
        "execution": {
          "iopub.status.busy": "2024-06-29T20:37:21.082137Z",
          "iopub.execute_input": "2024-06-29T20:37:21.08323Z",
          "iopub.status.idle": "2024-06-29T20:37:21.098006Z",
          "shell.execute_reply.started": "2024-06-29T20:37:21.083191Z",
          "shell.execute_reply": "2024-06-29T20:37:21.096775Z"
        },
        "trusted": true,
        "id": "IlloJUJhvHcW"
      },
      "execution_count": 6,
      "outputs": []
    },
    {
      "cell_type": "code",
      "source": [
        "le = LabelEncoder()\n",
        "df['smoking_history']= le.fit_transform(df['smoking_history'])"
      ],
      "metadata": {
        "execution": {
          "iopub.status.busy": "2024-06-29T20:39:44.949957Z",
          "iopub.execute_input": "2024-06-29T20:39:44.950959Z",
          "iopub.status.idle": "2024-06-29T20:39:44.980614Z",
          "shell.execute_reply.started": "2024-06-29T20:39:44.950923Z",
          "shell.execute_reply": "2024-06-29T20:39:44.97937Z"
        },
        "trusted": true,
        "id": "N3nP_FMzvHcY"
      },
      "execution_count": 7,
      "outputs": []
    },
    {
      "cell_type": "code",
      "source": [
        "df.info()"
      ],
      "metadata": {
        "execution": {
          "iopub.status.busy": "2024-06-29T20:39:47.834194Z",
          "iopub.execute_input": "2024-06-29T20:39:47.834606Z",
          "iopub.status.idle": "2024-06-29T20:39:47.856942Z",
          "shell.execute_reply.started": "2024-06-29T20:39:47.834577Z",
          "shell.execute_reply": "2024-06-29T20:39:47.8559Z"
        },
        "trusted": true,
        "colab": {
          "base_uri": "https://localhost:8080/"
        },
        "id": "rWGEtrFUvHca",
        "outputId": "459f8f3c-372c-41ed-f22d-94a1a0506663"
      },
      "execution_count": 8,
      "outputs": [
        {
          "output_type": "stream",
          "name": "stdout",
          "text": [
            "<class 'pandas.core.frame.DataFrame'>\n",
            "Index: 99982 entries, 0 to 99999\n",
            "Data columns (total 9 columns):\n",
            " #   Column               Non-Null Count  Dtype  \n",
            "---  ------               --------------  -----  \n",
            " 0   gender               99982 non-null  int64  \n",
            " 1   age                  99982 non-null  float64\n",
            " 2   hypertension         99982 non-null  int64  \n",
            " 3   heart_disease        99982 non-null  int64  \n",
            " 4   smoking_history      99982 non-null  int64  \n",
            " 5   bmi                  99982 non-null  float64\n",
            " 6   HbA1c_level          99982 non-null  float64\n",
            " 7   blood_glucose_level  99982 non-null  int64  \n",
            " 8   diabetes             99982 non-null  int64  \n",
            "dtypes: float64(3), int64(6)\n",
            "memory usage: 7.6 MB\n"
          ]
        }
      ]
    },
    {
      "cell_type": "code",
      "source": [
        "sns.histplot(data=df, x=\"age\",hue='diabetes')"
      ],
      "metadata": {
        "execution": {
          "iopub.status.busy": "2024-06-29T20:39:56.218296Z",
          "iopub.execute_input": "2024-06-29T20:39:56.218772Z",
          "iopub.status.idle": "2024-06-29T20:39:56.848791Z",
          "shell.execute_reply.started": "2024-06-29T20:39:56.218734Z",
          "shell.execute_reply": "2024-06-29T20:39:56.847582Z"
        },
        "trusted": true,
        "colab": {
          "base_uri": "https://localhost:8080/",
          "height": 466
        },
        "id": "O9W_epTXvHch",
        "outputId": "07b44955-02ce-4b34-94c4-2c2595c66041"
      },
      "execution_count": 9,
      "outputs": [
        {
          "output_type": "execute_result",
          "data": {
            "text/plain": [
              "<Axes: xlabel='age', ylabel='Count'>"
            ]
          },
          "metadata": {},
          "execution_count": 9
        },
        {
          "output_type": "display_data",
          "data": {
            "text/plain": [
              "<Figure size 640x480 with 1 Axes>"
            ],
            "image/png": "[encoded data removed]"
          },
          "metadata": {}
        }
      ]
    },
    {
      "cell_type": "code",
      "source": [
        "sns.histplot(data=df, x=\"HbA1c_level\",hue='diabetes')"
      ],
      "metadata": {
        "execution": {
          "iopub.status.busy": "2024-06-29T20:40:04.350261Z",
          "iopub.execute_input": "2024-06-29T20:40:04.350679Z",
          "iopub.status.idle": "2024-06-29T20:40:05.200477Z",
          "shell.execute_reply.started": "2024-06-29T20:40:04.35065Z",
          "shell.execute_reply": "2024-06-29T20:40:05.199404Z"
        },
        "trusted": true,
        "colab": {
          "base_uri": "https://localhost:8080/",
          "height": 467
        },
        "id": "1AkwBI26vHck",
        "outputId": "d14744c5-6f26-4428-b1d8-bafcd0f98880"
      },
      "execution_count": 10,
      "outputs": [
        {
          "output_type": "execute_result",
          "data": {
            "text/plain": [
              "<Axes: xlabel='HbA1c_level', ylabel='Count'>"
            ]
          },
          "metadata": {},
          "execution_count": 10
        },
        {
          "output_type": "display_data",
          "data": {
            "text/plain": [
              "<Figure size 640x480 with 1 Axes>"
            ],
            "image/png": "[encoded data removed]"
          },
          "metadata": {}
        }
      ]
    },
    {
      "cell_type": "markdown",
      "source": [
        "We can observe the following pattern:\n",
        "- The older a person is, the higher the risk of diabetes\n",
        "- HbA1c_level after a value of 6, the risk of diabetes is increased"
      ],
      "metadata": {
        "id": "SS5-8vrwvHcl"
      }
    },
    {
      "cell_type": "code",
      "source": [
        "plt.figure(figsize=(16,9))\n",
        "sns.heatmap(df.corr(), annot=True)"
      ],
      "metadata": {
        "execution": {
          "iopub.status.busy": "2024-06-29T20:40:13.617816Z",
          "iopub.execute_input": "2024-06-29T20:40:13.618287Z",
          "iopub.status.idle": "2024-06-29T20:40:14.362245Z",
          "shell.execute_reply.started": "2024-06-29T20:40:13.618251Z",
          "shell.execute_reply": "2024-06-29T20:40:14.361082Z"
        },
        "trusted": true,
        "colab": {
          "base_uri": "https://localhost:8080/",
          "height": 870
        },
        "id": "1ZWTVth_vHcn",
        "outputId": "c51b3f40-3041-42d7-c5d8-37101ec3653e"
      },
      "execution_count": 11,
      "outputs": [
        {
          "output_type": "execute_result",
          "data": {
            "text/plain": [
              "<Axes: >"
            ]
          },
          "metadata": {},
          "execution_count": 11
        },
        {
          "output_type": "display_data",
          "data": {
            "text/plain": [
              "<Figure size 1600x900 with 2 Axes>"
            ],
            "image/png": "[encoded data removed]"
          },
          "metadata": {}
        }
      ]
    },
    {
      "cell_type": "code",
      "source": [
        "select_feature = df.corr()\n",
        "select_feature = select_feature.index[abs(select_feature[\"diabetes\"]) >= 0.2]\n",
        "select_feature"
      ],
      "metadata": {
        "execution": {
          "iopub.status.busy": "2024-06-29T20:40:18.610166Z",
          "iopub.execute_input": "2024-06-29T20:40:18.610998Z",
          "iopub.status.idle": "2024-06-29T20:40:18.647415Z",
          "shell.execute_reply.started": "2024-06-29T20:40:18.610956Z",
          "shell.execute_reply": "2024-06-29T20:40:18.646363Z"
        },
        "trusted": true,
        "colab": {
          "base_uri": "https://localhost:8080/"
        },
        "id": "pugPEKvBvHcp",
        "outputId": "f31d44e2-9cb4-4647-99fb-28f74080dbae"
      },
      "execution_count": 12,
      "outputs": [
        {
          "output_type": "execute_result",
          "data": {
            "text/plain": [
              "Index(['age', 'bmi', 'HbA1c_level', 'blood_glucose_level', 'diabetes'], dtype='object')"
            ]
          },
          "metadata": {},
          "execution_count": 12
        }
      ]
    },
    {
      "cell_type": "markdown",
      "source": [
        "# Build Model"
      ],
      "metadata": {
        "id": "XgiRA7IFvHcr"
      }
    },
    {
      "cell_type": "code",
      "source": [
        "X = df[['age', 'bmi', 'HbA1c_level', 'blood_glucose_level']]\n",
        "y = df['diabetes']"
      ],
      "metadata": {
        "execution": {
          "iopub.status.busy": "2024-06-29T20:40:25.804297Z",
          "iopub.execute_input": "2024-06-29T20:40:25.805135Z",
          "iopub.status.idle": "2024-06-29T20:40:25.81191Z",
          "shell.execute_reply.started": "2024-06-29T20:40:25.805096Z",
          "shell.execute_reply": "2024-06-29T20:40:25.810825Z"
        },
        "trusted": true,
        "id": "RUZs8OPQvHcw"
      },
      "execution_count": 13,
      "outputs": []
    },
    {
      "cell_type": "code",
      "source": [
        "scaler = StandardScaler()\n",
        "X_scaled = scaler.fit_transform(X)\n",
        "\n",
        "pca = PCA()\n",
        "X_pca = pca.fit_transform(X_scaled)\n",
        "X_train, X_test, y_train, y_test = train_test_split(X, y, test_size=0.2, random_state=42)"
      ],
      "metadata": {
        "execution": {
          "iopub.status.busy": "2024-06-29T20:40:34.039876Z",
          "iopub.execute_input": "2024-06-29T20:40:34.040763Z",
          "iopub.status.idle": "2024-06-29T20:40:34.106486Z",
          "shell.execute_reply.started": "2024-06-29T20:40:34.040717Z",
          "shell.execute_reply": "2024-06-29T20:40:34.105155Z"
        },
        "trusted": true,
        "id": "IkrGUGbbvHcx"
      },
      "execution_count": 14,
      "outputs": []
    },
    {
      "cell_type": "markdown",
      "source": [
        "# Logistic Regression 95.91%"
      ],
      "metadata": {
        "id": "HY2DcTqOvHcz"
      }
    },
    {
      "cell_type": "code",
      "source": [
        "lr = LogisticRegression()\n",
        "lr.fit(X_train, y_train)\n",
        "train_accuracy = lr.score(X_train, y_train)\n",
        "val_accuracy = lr.score(X_test, y_test)\n",
        "\n",
        "print(\"Train Accuracy: {:.2f}%\".format(train_accuracy*100))\n",
        "print(\"Test Accuracy: {:.2f}%\".format(val_accuracy*100))"
      ],
      "metadata": {
        "execution": {
          "iopub.status.busy": "2024-06-29T20:40:38.027805Z",
          "iopub.execute_input": "2024-06-29T20:40:38.028709Z",
          "iopub.status.idle": "2024-06-29T20:40:38.414222Z",
          "shell.execute_reply.started": "2024-06-29T20:40:38.028668Z",
          "shell.execute_reply": "2024-06-29T20:40:38.413099Z"
        },
        "trusted": true,
        "colab": {
          "base_uri": "https://localhost:8080/"
        },
        "id": "SbsxT9OkvHc0",
        "outputId": "d2099acb-9a01-48bd-b5c2-fffe6bb6f462"
      },
      "execution_count": 15,
      "outputs": [
        {
          "output_type": "stream",
          "name": "stdout",
          "text": [
            "Train Accuracy: 96.02%\n",
            "Test Accuracy: 95.91%\n"
          ]
        }
      ]
    },
    {
      "cell_type": "markdown",
      "source": [
        "# Desicion Tree 97.08%"
      ],
      "metadata": {
        "id": "uXAgpKSwvHc1"
      }
    },
    {
      "cell_type": "code",
      "source": [
        "param_grid = {\n",
        "    'max_depth': [3, 5, 10, 15, 20],\n",
        "    'min_samples_split': [2, 5, 10, 15, 20, 25],\n",
        "    'min_samples_leaf': [1, 3, 5, 7],\n",
        "    'criterion': ['gini', 'entropy']\n",
        "}\n",
        "\n",
        "decision_tree_model = DecisionTreeClassifier(random_state=42)\n",
        "\n",
        "grid_search = GridSearchCV(decision_tree_model, param_grid, cv=5, n_jobs=-1, scoring='accuracy')\n",
        "grid_search.fit(X_train, y_train)\n",
        "\n",
        "best_model_tree= grid_search.best_estimator_\n",
        "\n",
        "best_model_tree.fit(X_train, y_train)\n",
        "\n",
        "train_accuracy = best_model_tree.score(X_train, y_train)\n",
        "val_accuracy = best_model_tree.score(X_test, y_test)\n",
        "\n",
        "\n",
        "print(\"Train Accuracy: {:.2f}%\".format(train_accuracy*100))\n",
        "print(\"Test Accuracy: {:.2f}%\".format(val_accuracy*100))"
      ],
      "metadata": {
        "execution": {
          "iopub.status.busy": "2024-06-29T20:40:50.757751Z",
          "iopub.execute_input": "2024-06-29T20:40:50.758519Z",
          "iopub.status.idle": "2024-06-29T20:41:43.017193Z",
          "shell.execute_reply.started": "2024-06-29T20:40:50.758482Z",
          "shell.execute_reply": "2024-06-29T20:41:43.015743Z"
        },
        "trusted": true,
        "colab": {
          "base_uri": "https://localhost:8080/"
        },
        "id": "7D6yeMYkvHc2",
        "outputId": "1a8e30df-0a60-4672-86bb-a515f812fa82"
      },
      "execution_count": 16,
      "outputs": [
        {
          "output_type": "stream",
          "name": "stdout",
          "text": [
            "Train Accuracy: 97.21%\n",
            "Test Accuracy: 97.08%\n"
          ]
        }
      ]
    },
    {
      "cell_type": "markdown",
      "source": [
        "# RF 97.07%"
      ],
      "metadata": {
        "id": "rPeJssmmvHc3"
      }
    },
    {
      "cell_type": "code",
      "source": [
        "param_grid = {\n",
        "    'n_estimators': [10, 20, 30],\n",
        "    'max_depth': [10, 20, 30],\n",
        "    'min_samples_split': [2, 5, 10, 15, 20],\n",
        "    'min_samples_leaf': [1, 2, 4, 6, 8]\n",
        "}\n",
        "\n",
        "model = RandomForestClassifier(random_state=42, n_jobs=-1)\n",
        "grid_search = GridSearchCV(model, param_grid, cv=5, n_jobs=-1, scoring='accuracy')\n",
        "grid_search.fit(X_train, y_train)\n",
        "best_model_rf = grid_search.best_estimator_\n",
        "\n",
        "best_model_rf.fit(X_train, y_train)\n",
        "\n",
        "train_accuracy_rf = best_model_rf.score(X_train, y_train)\n",
        "val_accuracy_rf = best_model_rf.score(X_test, y_test)\n",
        "print(\"Train Accuracy: {:.2f}%\".format(train_accuracy_rf*100))\n",
        "print(\"Test Accuracy: {:.2f}%\".format(val_accuracy_rf*100))"
      ],
      "metadata": {
        "execution": {
          "iopub.status.busy": "2024-06-29T20:43:17.650286Z",
          "iopub.execute_input": "2024-06-29T20:43:17.65076Z",
          "iopub.status.idle": "2024-06-29T20:52:19.436912Z",
          "shell.execute_reply.started": "2024-06-29T20:43:17.650723Z",
          "shell.execute_reply": "2024-06-29T20:52:19.435589Z"
        },
        "trusted": true,
        "id": "_97wnyHNvHc5"
      },
      "execution_count": null,
      "outputs": []
    },
    {
      "cell_type": "markdown",
      "source": [
        "# Conclusion\n",
        "We found that random forest and decision tree showed the best accuracy and the difference between them is minimal.\n",
        "To continue the development of this topic, I suggest collecting more data and increasing the number of features"
      ],
      "metadata": {
        "id": "Ukr06noYvHc7"
      }
    }
  ]
}